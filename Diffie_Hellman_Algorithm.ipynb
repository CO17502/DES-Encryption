{
  "nbformat": 4,
  "nbformat_minor": 0,
  "metadata": {
    "colab": {
      "provenance": [],
      "authorship_tag": "ABX9TyN2iGQKMZqYo/TAtH3ek3my",
      "include_colab_link": true
    },
    "kernelspec": {
      "name": "python3",
      "display_name": "Python 3"
    },
    "language_info": {
      "name": "python"
    }
  },
  "cells": [
    {
      "cell_type": "markdown",
      "metadata": {
        "id": "view-in-github",
        "colab_type": "text"
      },
      "source": [
        "<a href=\"https://colab.research.google.com/github/CO17502/Encryption-techniques/blob/main/Diffie_Hellman_Algorithm.ipynb\" target=\"_parent\"><img src=\"https://colab.research.google.com/assets/colab-badge.svg\" alt=\"Open In Colab\"/></a>"
      ]
    },
    {
      "cell_type": "code",
      "execution_count": null,
      "metadata": {
        "colab": {
          "base_uri": "https://localhost:8080/"
        },
        "id": "YJ-zGg5zqNLS",
        "outputId": "150c7437-fbde-4fd1-98f2-f45f536b45bb"
      },
      "outputs": [
        {
          "output_type": "stream",
          "name": "stdout",
          "text": [
            "The Value of P is :23\n",
            "The Value of G is :9\n",
            "The Private Key a for Alice is :4\n",
            "The Private Key b for Bob is :3\n",
            "Secret key for the Alice is : 9\n",
            "Secret Key for the Bob is : 9\n"
          ]
        }
      ],
      "source": [
        "from random import randint\n",
        "\n",
        "if __name__ == '__main__':\n",
        "\n",
        "\t# Both the persons will be agreed upon the\n",
        "\t# public keys G and P\n",
        "\t# A prime number P is taken\n",
        "\tP = 23\n",
        "\n",
        "\t# A primitive root for P, G is taken\n",
        "\tG = 9\n",
        "\n",
        "\n",
        "\tprint('The Value of P is :%d'%(P))\n",
        "\tprint('The Value of G is :%d'%(G))\n",
        "\n",
        "\t# Alice will choose the private key a\n",
        "\ta = 4\n",
        "\tprint('The Private Key a for Alice is :%d'%(a))\n",
        "\n",
        "\t# gets the generated key\n",
        "\tx = int(pow(G,a,P))\n",
        "\n",
        "\t# Bob will choose the private key b\n",
        "\tb = 3\n",
        "\tprint('The Private Key b for Bob is :%d'%(b))\n",
        "\n",
        "\t# gets the generated key\n",
        "\ty = int(pow(G,b,P))\n",
        "\n",
        "\n",
        "\t# Secret key for Alice\n",
        "\tka = int(pow(y,a,P))\n",
        "\n",
        "\t# Secret key for Bob\n",
        "\tkb = int(pow(x,b,P))\n",
        "\n",
        "\tprint('Secret key for the Alice is : %d'%(ka))\n",
        "\tprint('Secret Key for the Bob is : %d'%(kb))\n"
      ]
    }
  ]
}